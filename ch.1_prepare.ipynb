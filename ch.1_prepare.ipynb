{
 "cells": [
  {
   "cell_type": "markdown",
   "metadata": {},
   "source": [
    "## 00. 文字列の逆順\n",
    "文字列\"stressed\"の文字を逆に（末尾から先頭に向かって）並べた文字列を得よ．"
   ]
  },
  {
   "cell_type": "code",
   "execution_count": 6,
   "metadata": {},
   "outputs": [
    {
     "name": "stdout",
     "output_type": "stream",
     "text": [
      "desserts\n"
     ]
    }
   ],
   "source": [
    "s = \"stressed\"\n",
    "s_rev = s[::-1]\n",
    "print(s_rev)"
   ]
  },
  {
   "cell_type": "markdown",
   "metadata": {
    "collapsed": true
   },
   "source": [
    "## 01. 「パタトクカシーー」\n",
    "「パタトクカシーー」という文字列の1,3,5,7文字目を取り出して連結した文字列を得よ．"
   ]
  },
  {
   "cell_type": "code",
   "execution_count": 2,
   "metadata": {},
   "outputs": [
    {
     "name": "stdout",
     "output_type": "stream",
     "text": [
      "パトカー\n"
     ]
    }
   ],
   "source": [
    "s = \"パタトクカシーー\"\n",
    "s2 = s[::2]\n",
    "print(s2)"
   ]
  },
  {
   "cell_type": "markdown",
   "metadata": {},
   "source": [
    "## 02. 「パトカー」＋「タクシー」＝「パタトクカシーー」\n",
    "「パトカー」＋「タクシー」の文字を先頭から交互に連結して文字列「パタトクカシーー」を得よ"
   ]
  },
  {
   "cell_type": "code",
   "execution_count": 25,
   "metadata": {},
   "outputs": [
    {
     "name": "stdout",
     "output_type": "stream",
     "text": [
      "パタトクカシーー\n"
     ]
    }
   ],
   "source": [
    "s1 = \"パトカー\"\n",
    "s2 = \"タクシー\"\n",
    "s3 = ''\n",
    "for a, b in zip(s1, s2):\n",
    "    s3 += a + b\n",
    "print(s3)"
   ]
  },
  {
   "cell_type": "markdown",
   "metadata": {},
   "source": [
    "## 03. 円周率\n",
    "\"Now I need a drink, alcoholic of course, after the heavy lectures involving quantum mechanics.\"という文を単語に分解し，各単語の（アルファベットの）文字数を先頭から出現順に並べたリストを作成せよ．"
   ]
  },
  {
   "cell_type": "code",
   "execution_count": 44,
   "metadata": {},
   "outputs": [
    {
     "name": "stdout",
     "output_type": "stream",
     "text": [
      "[3, 1, 4, 1, 5, 9, 2, 6, 5, 3, 5, 8, 9, 7, 9]\n"
     ]
    }
   ],
   "source": [
    "s = \"Now I need a drink, alcoholic of course, after the heavy lectures involving quantum mechanics.\"\n",
    "s1 = s.split()\n",
    "#print(s1)\n",
    "\n",
    "result = []\n",
    "for word in s1:\n",
    "    cnt = 0\n",
    "    for char in word:\n",
    "        if char.isalpha():\n",
    "            cnt += 1\n",
    "    result.append(cnt)\n",
    "        \n",
    "print(result)"
   ]
  },
  {
   "cell_type": "markdown",
   "metadata": {},
   "source": [
    "## 04. 元素記号\n",
    "\"Hi He Lied Because Boron Could Not Oxidize Fluorine. New Nations Might Also Sign Peace Security Clause. Arthur King Can.\"という文を単語に分解し，1, 5, 6, 7, 8, 9, 15, 16, 19番目の単語は先頭の1文字，それ以外の単語は先頭に2文字を取り出し，取り出した文字列から単語の位置（先頭から何番目の単語か）への連想配列（辞書型もしくはマップ型）を作成せよ．"
   ]
  },
  {
   "cell_type": "code",
   "execution_count": 45,
   "metadata": {},
   "outputs": [
    {
     "name": "stdout",
     "output_type": "stream",
     "text": [
      "{'H': 1, 'He': 2, 'Li': 3, 'Be': 4, 'B': 5, 'C': 6, 'N': 7, 'O': 8, 'F': 9, 'Ne': 10, 'Na': 11, 'Mi': 12, 'Al': 13, 'Si': 14, 'P': 15, 'S': 16, 'Cl': 17, 'Ar': 18, 'K': 19, 'Ca': 20}\n"
     ]
    }
   ],
   "source": [
    "s = \"Hi He Lied Because Boron Could Not Oxidize Fluorine. New Nations Might Also Sign Peace Security Clause. Arthur King Can.\"\n",
    "s1 = s.split()\n",
    "#print(s1)\n",
    "dict = {}\n",
    "for i, w in enumerate(s1):\n",
    "    if i in [0, 4, 5, 6, 7, 8, 14, 15, 18]:\n",
    "        dict[w[0]] = i + 1\n",
    "    else:\n",
    "        dict[w[0:2]] = i + 1\n",
    "        \n",
    "print(dict)"
   ]
  },
  {
   "cell_type": "markdown",
   "metadata": {},
   "source": [
    "## 05. n-gram\n",
    "与えられたシーケンス（文字列やリストなど）からn-gramを作る関数を作成せよ．この関数を用い，\"I am an NLPer\"という文から単語bi-gram，文字bi-gramを得よ"
   ]
  },
  {
   "cell_type": "code",
   "execution_count": 74,
   "metadata": {},
   "outputs": [
    {
     "name": "stdout",
     "output_type": "stream",
     "text": [
      "[['I', 'am'], ['am', 'an'], ['an', 'NLPer']]\n",
      "['I ', ' a', 'am', 'm ', ' a', 'an', 'n ', ' N', 'NL', 'LP', 'Pe', 'er']\n",
      "[['I', 'am', 'an'], ['am', 'an', 'NLPer']]\n",
      "['I a', ' am', 'am ', 'm a', ' an', 'an ', 'n N', ' NL', 'NLP', 'LPe', 'Per']\n"
     ]
    }
   ],
   "source": [
    "def ngram(S, n):\n",
    "    return [S[i:i+n] for i in range(len(S)-n+1)]\n",
    "    \n",
    "            \n",
    "S_ori = \"I am an NLPer\"\n",
    "S = S_ori.split()\n",
    "# word bi-gram\n",
    "w_bi_gram = ngram(S, 2)\n",
    "print(w_bi_gram)\n",
    "# char bi-gram\n",
    "c_bi_gram = ngram(S_ori, 2)\n",
    "print(c_bi_gram)\n",
    "\n",
    "####\n",
    "# word tri-gram\n",
    "w_tri_gram = ngram(S, 3)\n",
    "print(w_tri_gram)\n",
    "c_tri_gram = ngram(S_ori, 3)\n",
    "print(c_tri_gram)"
   ]
  },
  {
   "cell_type": "markdown",
   "metadata": {},
   "source": [
    "## 06. 集合\n",
    "\"paraparaparadise\"と\"paragraph\"に含まれる文字bi-gramの集合を，それぞれ, XとYとして求め，XとYの和集合，積集合，差集合を求めよ．さらに，'se'というbi-gramがXおよびYに含まれるかどうかを調べよ．"
   ]
  },
  {
   "cell_type": "code",
   "execution_count": 75,
   "metadata": {},
   "outputs": [
    {
     "name": "stdout",
     "output_type": "stream",
     "text": [
      "Union: {'ap', 'ag', 'pa', 'ph', 'is', 'ra', 'ar', 'ad', 'se', 'di', 'gr'}\n",
      "Intersection: {'ar', 'ra', 'pa', 'ap'}\n",
      "Difference: {'se', 'is', 'ad', 'di'}\n",
      "X has 'se' : True\n",
      "Y has 'se' : False\n"
     ]
    }
   ],
   "source": [
    "S1 = \"paraparaparadise\"\n",
    "S2 = \"paragraph\"\n",
    "\n",
    "c_bi_gram_S1 = ngram(S1, 2) # c_bi_gram_S1\n",
    "X = set(c_bi_gram_S1)\n",
    "c_bi_gram_S2 = ngram(S2, 2) # c_bi_gram_S2\n",
    "Y = set(c_bi_gram_S2)\n",
    "\n",
    "#print(X, Y)\n",
    "\n",
    "# or\n",
    "C_or = X | Y\n",
    "# and\n",
    "C_and = X & Y\n",
    "# diff\n",
    "C_diff = (X - Y)\n",
    "\n",
    "print('Union:', C_or)\n",
    "print('Intersection:', C_and)\n",
    "print('Difference:',C_diff)\n",
    "print(\"X has 'se' :\", 'se' in X)\n",
    "print(\"Y has 'se' :\", 'se' in Y)"
   ]
  },
  {
   "cell_type": "markdown",
   "metadata": {},
   "source": [
    "## 07. テンプレートによる文生成\n",
    "引数x, y, zを受け取り「x時のyはz」という文字列を返す関数を実装せよ．さらに，x=12, y=\"気温\", z=22.4として，実行結果を確認せよ．"
   ]
  },
  {
   "cell_type": "code",
   "execution_count": 76,
   "metadata": {},
   "outputs": [
    {
     "name": "stdout",
     "output_type": "stream",
     "text": [
      "12時の気温は22.4\n"
     ]
    }
   ],
   "source": [
    "def xyz(x, y, z):\n",
    "    return str(x) + '時の' + str(y) + 'は' + str(z)\n",
    "\n",
    "x=12; y='気温'; z=22.4\n",
    "print(xyz(x,y,z))"
   ]
  },
  {
   "cell_type": "markdown",
   "metadata": {},
   "source": [
    "## 08. 暗号文\n",
    "与えられた文字列の各文字を，以下の仕様で変換する関数cipherを実装せよ．\n",
    "\n",
    "英小文字ならば(219 - 文字コード)の文字に置換\n",
    "その他の文字はそのまま出力\n",
    "この関数を用い，英語のメッセージを暗号化・復号化せよ．"
   ]
  },
  {
   "cell_type": "code",
   "execution_count": 95,
   "metadata": {},
   "outputs": [],
   "source": [
    "def cipher(S):\n",
    "    result = ''\n",
    "    for c in S:\n",
    "        if c.islower():\n",
    "            result += chr(219 - ord(c))\n",
    "        # それ以外\n",
    "        else:\n",
    "            result += c\n",
    "        \n",
    "    return result"
   ]
  },
  {
   "cell_type": "code",
   "execution_count": 98,
   "metadata": {},
   "outputs": [
    {
     "name": "stdout",
     "output_type": "stream",
     "text": [
      "I have 2 more minutes.\n",
      "S_ori: I have 2 more minutes.\n",
      "S_enc: I szev 2 nliv nrmfgvh.\n",
      "S_dec: I have 2 more minutes.\n"
     ]
    }
   ],
   "source": [
    "S_ori = input()\n",
    "S_enc = cipher(S_ori)\n",
    "S_dec = cipher(S_enc)\n",
    "print('S_ori:', S_ori)\n",
    "print('S_enc:', S_enc)\n",
    "print('S_dec:', S_dec)"
   ]
  },
  {
   "cell_type": "markdown",
   "metadata": {},
   "source": [
    "## 09. Typoglycemia\n",
    "スペースで区切られた単語列に対して，各単語の先頭と末尾の文字は残し，それ以外の文字の順序をランダムに並び替えるプログラムを作成せよ．ただし，長さが４以下の単語は並び替えないこととする．適当な英語の文（例えば\"I couldn't believe that I could actually understand what I was reading : the phenomenal power of the human mind .\"）を与え，その実行結果を確認せよ．"
   ]
  },
  {
   "cell_type": "code",
   "execution_count": 138,
   "metadata": {},
   "outputs": [
    {
     "name": "stdout",
     "output_type": "stream",
     "text": [
      "I coln'dut bleviee that I colud aalctuly unseandtrd what I was rdaenig : the pmnneoaehl pewor of the hmaun mind .\n"
     ]
    }
   ],
   "source": [
    "import re\n",
    "import random\n",
    "\n",
    "S = \"I couldn't believe that I could actually understand what I was reading : the phenomenal power of the human mind .\"\n",
    "S1 = re.split(r'[\\s]', S)\n",
    "\n",
    "def shuffle(S):\n",
    "    result = []\n",
    "    for w in S1:\n",
    "        if len(w) >= 4:\n",
    "            tmp = list(w[1:-1])\n",
    "            random.shuffle(tmp)\n",
    "            result.append(w[0] + ''.join(tmp) + w[-1])\n",
    "        else:\n",
    "            result.append(w)\n",
    "    return ' '.join(result)\n",
    "\n",
    "S2 = shuffle(S1)\n",
    "print(S2)"
   ]
  }
 ],
 "metadata": {
  "kernelspec": {
   "display_name": "Python 3",
   "language": "python",
   "name": "python3"
  },
  "language_info": {
   "codemirror_mode": {
    "name": "ipython",
    "version": 3
   },
   "file_extension": ".py",
   "mimetype": "text/x-python",
   "name": "python",
   "nbconvert_exporter": "python",
   "pygments_lexer": "ipython3",
   "version": "3.6.1"
  }
 },
 "nbformat": 4,
 "nbformat_minor": 2
}
